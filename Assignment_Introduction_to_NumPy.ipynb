{
  "nbformat": 4,
  "nbformat_minor": 0,
  "metadata": {
    "colab": {
      "name": " Assignment - Introduction to NumPy.ipynb",
      "provenance": [],
      "collapsed_sections": [],
      "include_colab_link": true
    },
    "kernelspec": {
      "name": "python3",
      "display_name": "Python 3"
    }
  },
  "cells": [
    {
      "cell_type": "markdown",
      "metadata": {
        "id": "view-in-github",
        "colab_type": "text"
      },
      "source": [
        "<a href=\"https://colab.research.google.com/github/subodh2708/PYTHON/blob/main/Assignment_Introduction_to_NumPy.ipynb\" target=\"_parent\"><img src=\"https://colab.research.google.com/assets/colab-badge.svg\" alt=\"Open In Colab\"/></a>"
      ]
    },
    {
      "cell_type": "markdown",
      "metadata": {
        "id": "MKXTc2Tas23T"
      },
      "source": [
        "# <u> Use only those concepts which have been taught till now </u>"
      ]
    },
    {
      "cell_type": "code",
      "metadata": {
        "id": "0V3Xtuh9siNn"
      },
      "source": [
        "import numpy as np"
      ],
      "execution_count": 1,
      "outputs": []
    },
    {
      "cell_type": "markdown",
      "metadata": {
        "id": "Ase3qjp9cJUC"
      },
      "source": [
        "# <u>**Problem 1**</u>\n",
        "\n",
        "### Construct a 2-D $10*10$ matrix with the following constraints:\n",
        "\n",
        "*  ####  The element at $[0,0]$ should be 1\n",
        "*  ####   The element at $[0,9]$ should be 100\n",
        "* ####   The element at $[9,0]$ should be 50\n",
        "* ####   The interval between elements in rows should be constant\n",
        "* ####   The interval between elements in columns should be constant\n",
        "\n"
      ]
    },
    {
      "cell_type": "code",
      "metadata": {
        "id": "xj0SaK7smcPu",
        "colab": {
          "base_uri": "https://localhost:8080/"
        },
        "outputId": "29301039-1e0e-410c-c58a-7114d11d4335"
      },
      "source": [
        "# Your code here\n",
        "\n",
        "rows = np.linspace(1,50,10)\n",
        "lists = []\n",
        "for step in rows:\n",
        "  lists.append(np.linspace(step,step*100,10,endpoint = True,dtype='int'))\n",
        "\n",
        "array = np.array(lists)\n",
        "array"
      ],
      "execution_count": 4,
      "outputs": [
        {
          "output_type": "execute_result",
          "data": {
            "text/plain": [
              "array([[   1,   12,   23,   34,   45,   56,   67,   78,   89,  100],\n",
              "       [   6,   77,  148,  219,  290,  360,  431,  502,  573,  644],\n",
              "       [  11,  142,  273,  404,  535,  665,  796,  927, 1058, 1188],\n",
              "       [  17,  208,  398,  589,  780,  970, 1161, 1352, 1542, 1733],\n",
              "       [  22,  273,  523,  774, 1025, 1275, 1526, 1776, 2027, 2277],\n",
              "       [  28,  338,  649,  959, 1270, 1580, 1890, 2201, 2511, 2822],\n",
              "       [  33,  404,  774, 1144, 1515, 1885, 2255, 2626, 2996, 3366],\n",
              "       [  39,  469,  899, 1329, 1760, 2190, 2620, 3050, 3480, 3911],\n",
              "       [  44,  534, 1024, 1514, 2005, 2495, 2985, 3475, 3965, 4455],\n",
              "       [  50,  600, 1150, 1700, 2250, 2800, 3350, 3900, 4450, 5000]])"
            ]
          },
          "metadata": {},
          "execution_count": 4
        }
      ]
    },
    {
      "cell_type": "markdown",
      "metadata": {
        "id": "POAj5sBgd3gd"
      },
      "source": [
        "#<u>**Problem 2**</u>\n",
        "\n",
        "### Construct a 2-D $10*10$ matrix with the diagonal elements equal to zero and all the other elements equal to 1"
      ]
    },
    {
      "cell_type": "code",
      "metadata": {
        "id": "73eCdpZymbjh",
        "colab": {
          "base_uri": "https://localhost:8080/"
        },
        "outputId": "5df44f01-1976-47bb-bcf1-4c0c98929be1"
      },
      "source": [
        "# Your code below:       # Hint : Use nested for loops \n",
        "x = np.ones((10,10),dtype = 'int')\n",
        "\n",
        "for i in range(len(x)):\n",
        "  for j in range(len(x[i])):\n",
        "    if i == j:\n",
        "      x[i,j] = 0\n",
        "print(x)      \n",
        "\n",
        "\n",
        "\n",
        "\n",
        "\n"
      ],
      "execution_count": 6,
      "outputs": [
        {
          "output_type": "stream",
          "name": "stdout",
          "text": [
            "[[0 1 1 1 1 1 1 1 1 1]\n",
            " [1 0 1 1 1 1 1 1 1 1]\n",
            " [1 1 0 1 1 1 1 1 1 1]\n",
            " [1 1 1 0 1 1 1 1 1 1]\n",
            " [1 1 1 1 0 1 1 1 1 1]\n",
            " [1 1 1 1 1 0 1 1 1 1]\n",
            " [1 1 1 1 1 1 0 1 1 1]\n",
            " [1 1 1 1 1 1 1 0 1 1]\n",
            " [1 1 1 1 1 1 1 1 0 1]\n",
            " [1 1 1 1 1 1 1 1 1 0]]\n"
          ]
        }
      ]
    },
    {
      "cell_type": "markdown",
      "metadata": {
        "id": "rnEIpxdzfIhF"
      },
      "source": [
        "# <u>**Problem 3**</u>\n",
        "\n",
        "### Construct a list of first 100 natural numbers.Create a two dimensional array with 10 rows and whose each row contains 10 columns and each number in this array is the square of the number from your constructed list. \n",
        "\n",
        "### For example : [[1,4,9,...,100],[121,144,...],......,]"
      ]
    },
    {
      "cell_type": "code",
      "metadata": {
        "id": "NuQh8LLBma-0"
      },
      "source": [
        "# Your code below ..\n",
        "\n",
        "\n",
        "\n",
        "\n",
        "\n"
      ],
      "execution_count": null,
      "outputs": []
    },
    {
      "cell_type": "markdown",
      "metadata": {
        "id": "UtGDDH9Qq_2M"
      },
      "source": [
        "#<u>**Problem 4**</u>\n",
        "\n",
        "### You are given an image below. Experiment with the numpy slice operation to only get the face of the person in the image"
      ]
    },
    {
      "cell_type": "code",
      "metadata": {
        "id": "cH4uErippHMs"
      },
      "source": [
        " # Importing data from the skimage library. Don't worry much about it\n",
        " from skimage import data\n",
        " camera = data.camera()"
      ],
      "execution_count": null,
      "outputs": []
    },
    {
      "cell_type": "code",
      "metadata": {
        "id": "knbDo7ghpJzr"
      },
      "source": [
        "# Camera is 2-D array object\n",
        "camera.shape"
      ],
      "execution_count": null,
      "outputs": []
    },
    {
      "cell_type": "code",
      "metadata": {
        "id": "EUADtCOZpK7E"
      },
      "source": [
        "camera"
      ],
      "execution_count": null,
      "outputs": []
    },
    {
      "cell_type": "code",
      "metadata": {
        "id": "TdS_F-OVpMsb"
      },
      "source": [
        "# You can plot the camera object and see the image\n",
        "import matplotlib.pyplot as plt\n",
        "plt.imshow(camera)"
      ],
      "execution_count": null,
      "outputs": []
    },
    {
      "cell_type": "code",
      "metadata": {
        "id": "-HVkxIb5paZZ"
      },
      "source": [
        "# Perform your slice operation here to get the face of the person\n",
        "camera_slice = \n",
        "plt.imshow(camera_slice)"
      ],
      "execution_count": null,
      "outputs": []
    }
  ]
}