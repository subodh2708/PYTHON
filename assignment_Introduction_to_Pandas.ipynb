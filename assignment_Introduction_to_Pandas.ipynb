{
  "nbformat": 4,
  "nbformat_minor": 0,
  "metadata": {
    "colab": {
      "name": " assignment - Introduction to Pandas.ipynb",
      "provenance": [],
      "collapsed_sections": [],
      "include_colab_link": true
    },
    "kernelspec": {
      "name": "python3",
      "display_name": "Python 3"
    }
  },
  "cells": [
    {
      "cell_type": "markdown",
      "metadata": {
        "id": "view-in-github",
        "colab_type": "text"
      },
      "source": [
        "<a href=\"https://colab.research.google.com/github/subodh2708/PYTHON/blob/main/assignment_Introduction_to_Pandas.ipynb\" target=\"_parent\"><img src=\"https://colab.research.google.com/assets/colab-badge.svg\" alt=\"Open In Colab\"/></a>"
      ]
    },
    {
      "cell_type": "markdown",
      "metadata": {
        "id": "MKXTc2Tas23T"
      },
      "source": [
        "# <u> Use only those concepts which have been taught till now </u>"
      ]
    },
    {
      "cell_type": "code",
      "metadata": {
        "id": "0V3Xtuh9siNn"
      },
      "source": [
        "import numpy as np\n",
        "import pandas as pd"
      ],
      "execution_count": 1,
      "outputs": []
    },
    {
      "cell_type": "markdown",
      "metadata": {
        "id": "Ase3qjp9cJUC"
      },
      "source": [
        "# <u>**Problem 1**</u>\n",
        "\n",
        "### You are given a list of urls. You need to extract the domain name from the urls in another list. Also you need to extract the ending string which the url ends with. \n",
        "\n",
        "### For example, https://www.example.com/market.php -- In this example, domain name is <code>www.example.com</code> and the ending string is <code>php</code>\n",
        "\n"
      ]
    },
    {
      "cell_type": "code",
      "metadata": {
        "id": "xj0SaK7smcPu"
      },
      "source": [
        "# List of urls\n",
        "url_list = ['https://blog.hubspot.com/marketing/parts-url',\n",
        "            'https://www.almabetter.com/enrollments',\n",
        "            'https://pandas.pydata.org/pandas-docs/stable/reference/api/pandas.DataFrame.rename.html',\n",
        "            'https://www.programiz.com/python-programming/list']"
      ],
      "execution_count": 2,
      "outputs": []
    },
    {
      "cell_type": "code",
      "metadata": {
        "id": "N1hhYCZw3V1c",
        "colab": {
          "base_uri": "https://localhost:8080/"
        },
        "outputId": "42e21a4d-9dce-46cc-fb21-19b03cfcd766"
      },
      "source": [
        "# Extract the domains and the ending string. Hint : use the split method for a string\n",
        "l = []\n",
        "for url in url_list:\n",
        "  l.append(url.split(\"//\"))\n",
        "print(l)\n",
        "\n",
        "n = []\n",
        "for y in l:\n",
        "  n.append(y[1].split('/'))\n",
        "print(n)\n",
        "\n",
        "\n",
        "# print(l)\n",
        "domain_list = [l[0] for l in n]\n",
        "print(domain_list)\n",
        "\n",
        "ending_string_list = [l[-1] for l in n]\n",
        "ending_string_list\n"
      ],
      "execution_count": 23,
      "outputs": [
        {
          "output_type": "stream",
          "name": "stdout",
          "text": [
            "[['https:', 'blog.hubspot.com/marketing/parts-url'], ['https:', 'www.almabetter.com/enrollments'], ['https:', 'pandas.pydata.org/pandas-docs/stable/reference/api/pandas.DataFrame.rename.html'], ['https:', 'www.programiz.com/python-programming/list']]\n",
            "[['blog.hubspot.com', 'marketing', 'parts-url'], ['www.almabetter.com', 'enrollments'], ['pandas.pydata.org', 'pandas-docs', 'stable', 'reference', 'api', 'pandas.DataFrame.rename.html'], ['www.programiz.com', 'python-programming', 'list']]\n",
            "['blog.hubspot.com', 'www.almabetter.com', 'pandas.pydata.org', 'www.programiz.com']\n"
          ]
        },
        {
          "output_type": "execute_result",
          "data": {
            "text/plain": [
              "['parts-url', 'enrollments', 'pandas.DataFrame.rename.html', 'list']"
            ]
          },
          "metadata": {},
          "execution_count": 23
        }
      ]
    },
    {
      "cell_type": "markdown",
      "metadata": {
        "id": "EVgY54DrvLEF"
      },
      "source": [
        "## Next create a pandas dataframe with the above three lists."
      ]
    },
    {
      "cell_type": "code",
      "metadata": {
        "id": "2osXcjvpu6Uz"
      },
      "source": [
        "# Your code here. Hint : zip the three lists\n",
        "\n",
        "\n",
        "\n"
      ],
      "execution_count": null,
      "outputs": []
    }
  ]
}