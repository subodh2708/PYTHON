{
  "nbformat": 4,
  "nbformat_minor": 0,
  "metadata": {
    "colab": {
      "name": "practice 3.ipynb",
      "provenance": [],
      "authorship_tag": "ABX9TyP4V1XzwLTW/YonFiCUvjYb",
      "include_colab_link": true
    },
    "kernelspec": {
      "name": "python3",
      "display_name": "Python 3"
    },
    "language_info": {
      "name": "python"
    }
  },
  "cells": [
    {
      "cell_type": "markdown",
      "metadata": {
        "id": "view-in-github",
        "colab_type": "text"
      },
      "source": [
        "<a href=\"https://colab.research.google.com/github/subodh2708/practice/blob/main/practice_3.ipynb\" target=\"_parent\"><img src=\"https://colab.research.google.com/assets/colab-badge.svg\" alt=\"Open In Colab\"/></a>"
      ]
    },
    {
      "cell_type": "code",
      "source": [
        "import numpy as np"
      ],
      "metadata": {
        "id": "Grepv_eHvEIb"
      },
      "execution_count": 1,
      "outputs": []
    },
    {
      "cell_type": "code",
      "source": [
        "import numpy as np"
      ],
      "metadata": {
        "id": "sLCEVSCgIntx"
      },
      "execution_count": 2,
      "outputs": []
    },
    {
      "cell_type": "code",
      "source": [
        "one_d_array = np.array([1,2,3,4])"
      ],
      "metadata": {
        "id": "8pthFpl0vIyT"
      },
      "execution_count": 3,
      "outputs": []
    },
    {
      "cell_type": "code",
      "source": [
        "one_d_array"
      ],
      "metadata": {
        "colab": {
          "base_uri": "https://localhost:8080/"
        },
        "id": "fc5U-iSvJDg9",
        "outputId": "45686243-4f70-494d-d34b-689ba4438e3c"
      },
      "execution_count": 4,
      "outputs": [
        {
          "output_type": "execute_result",
          "data": {
            "text/plain": [
              "array([1, 2, 3, 4])"
            ]
          },
          "metadata": {},
          "execution_count": 4
        }
      ]
    },
    {
      "cell_type": "code",
      "source": [
        "two_d_array = np.array([[1,2],[3,4]])"
      ],
      "metadata": {
        "id": "3HhYmqDNJF5r"
      },
      "execution_count": 5,
      "outputs": []
    },
    {
      "cell_type": "code",
      "source": [
        "two_d_array"
      ],
      "metadata": {
        "colab": {
          "base_uri": "https://localhost:8080/"
        },
        "id": "k4qi_RL3KNNR",
        "outputId": "6b7086f5-397f-4967-eecf-1a21d6262cfb"
      },
      "execution_count": 6,
      "outputs": [
        {
          "output_type": "execute_result",
          "data": {
            "text/plain": [
              "array([[1, 2],\n",
              "       [3, 4]])"
            ]
          },
          "metadata": {},
          "execution_count": 6
        }
      ]
    },
    {
      "cell_type": "code",
      "source": [
        "threeD_array = np.array([[[1,2,3],[1,3,5],[3,4,5]],\n",
        "                         [[5,6,7],[3,5,6],[7,8,9]]])"
      ],
      "metadata": {
        "id": "9CQLZReVKQte"
      },
      "execution_count": 7,
      "outputs": []
    },
    {
      "cell_type": "code",
      "source": [
        "print(threeD_array)\n",
        "print(threeD_array.shape)"
      ],
      "metadata": {
        "colab": {
          "base_uri": "https://localhost:8080/"
        },
        "id": "fnQeR8EdK3zK",
        "outputId": "fd80f6f3-6371-4a41-b00a-a97928c2d483"
      },
      "execution_count": 8,
      "outputs": [
        {
          "output_type": "stream",
          "name": "stdout",
          "text": [
            "[[[1 2 3]\n",
            "  [1 3 5]\n",
            "  [3 4 5]]\n",
            "\n",
            " [[5 6 7]\n",
            "  [3 5 6]\n",
            "  [7 8 9]]]\n",
            "(2, 3, 3)\n"
          ]
        }
      ]
    },
    {
      "cell_type": "code",
      "source": [
        "fourD_array = np.array([[[[1,2],[3,4]],\n",
        "                         [[5,6],[7,8]]],\n",
        "                        [[[9,10],[11,12]],\n",
        "                        [[13,14],[15,16]]],\n",
        "                        [[[1,2],[3,4]],\n",
        "                        [[2,3],[4,5]]]])\n",
        "                       \n",
        "                         "
      ],
      "metadata": {
        "id": "7pDKIJYaK6KE"
      },
      "execution_count": 17,
      "outputs": []
    },
    {
      "cell_type": "code",
      "source": [
        "print(fourD_array)\n",
        "print(fourD_array.shape)"
      ],
      "metadata": {
        "colab": {
          "base_uri": "https://localhost:8080/"
        },
        "id": "XlUgLzGsLyVY",
        "outputId": "2d4789bd-92ea-44bb-d51f-e3a5ce9ccae7"
      },
      "execution_count": 18,
      "outputs": [
        {
          "output_type": "stream",
          "name": "stdout",
          "text": [
            "[[[[ 1  2]\n",
            "   [ 3  4]]\n",
            "\n",
            "  [[ 5  6]\n",
            "   [ 7  8]]]\n",
            "\n",
            "\n",
            " [[[ 9 10]\n",
            "   [11 12]]\n",
            "\n",
            "  [[13 14]\n",
            "   [15 16]]]\n",
            "\n",
            "\n",
            " [[[ 1  2]\n",
            "   [ 3  4]]\n",
            "\n",
            "  [[ 2  3]\n",
            "   [ 4  5]]]]\n",
            "(3, 2, 2, 2)\n"
          ]
        }
      ]
    },
    {
      "cell_type": "code",
      "source": [
        "fourD_array.shape"
      ],
      "metadata": {
        "colab": {
          "base_uri": "https://localhost:8080/"
        },
        "id": "UbnAVJZAL3Tp",
        "outputId": "aabaf14a-ed83-4b15-c916-1328ee6c3215"
      },
      "execution_count": 19,
      "outputs": [
        {
          "output_type": "execute_result",
          "data": {
            "text/plain": [
              "(3, 2, 2, 2)"
            ]
          },
          "metadata": {},
          "execution_count": 19
        }
      ]
    },
    {
      "cell_type": "code",
      "source": [
        "fourD_array.ndim"
      ],
      "metadata": {
        "colab": {
          "base_uri": "https://localhost:8080/"
        },
        "id": "hA-LKTv3Znae",
        "outputId": "3e508a08-64e3-4fdf-f187-61fda22c0ae2"
      },
      "execution_count": 20,
      "outputs": [
        {
          "output_type": "execute_result",
          "data": {
            "text/plain": [
              "4"
            ]
          },
          "metadata": {},
          "execution_count": 20
        }
      ]
    },
    {
      "cell_type": "code",
      "source": [
        "fourD_array.size"
      ],
      "metadata": {
        "colab": {
          "base_uri": "https://localhost:8080/"
        },
        "id": "pHzagUzicZS9",
        "outputId": "7ac1fad6-dbd1-44d9-d8f4-48dcb4a147f0"
      },
      "execution_count": 21,
      "outputs": [
        {
          "output_type": "execute_result",
          "data": {
            "text/plain": [
              "24"
            ]
          },
          "metadata": {},
          "execution_count": 21
        }
      ]
    },
    {
      "cell_type": "code",
      "source": [
        "fourD_array.dtype"
      ],
      "metadata": {
        "colab": {
          "base_uri": "https://localhost:8080/"
        },
        "id": "MU3RbIdEcnqP",
        "outputId": "a9f1fa68-7991-4276-f06c-7585897447fb"
      },
      "execution_count": 22,
      "outputs": [
        {
          "output_type": "execute_result",
          "data": {
            "text/plain": [
              "dtype('int64')"
            ]
          },
          "metadata": {},
          "execution_count": 22
        }
      ]
    },
    {
      "cell_type": "code",
      "source": [
        "fourD_array.astype(int)"
      ],
      "metadata": {
        "colab": {
          "base_uri": "https://localhost:8080/"
        },
        "id": "CDp1hi29cwcV",
        "outputId": "a3954f2c-fc61-4b13-df22-656bfe7b19a0"
      },
      "execution_count": 26,
      "outputs": [
        {
          "output_type": "execute_result",
          "data": {
            "text/plain": [
              "array([[[[ 1,  2],\n",
              "         [ 3,  4]],\n",
              "\n",
              "        [[ 5,  6],\n",
              "         [ 7,  8]]],\n",
              "\n",
              "\n",
              "       [[[ 9, 10],\n",
              "         [11, 12]],\n",
              "\n",
              "        [[13, 14],\n",
              "         [15, 16]]],\n",
              "\n",
              "\n",
              "       [[[ 1,  2],\n",
              "         [ 3,  4]],\n",
              "\n",
              "        [[ 2,  3],\n",
              "         [ 4,  5]]]])"
            ]
          },
          "metadata": {},
          "execution_count": 26
        }
      ]
    },
    {
      "cell_type": "markdown",
      "source": [
        "memory check\n"
      ],
      "metadata": {
        "id": "1RGc40x4mgIR"
      }
    },
    {
      "cell_type": "code",
      "source": [
        "import sys\n",
        "\n",
        "S = [0,1,2,3,4,5,6,7,8,9] \n",
        "print(sys.getsizeof(S))\n",
        "print(sys.getsizeof(S)* len(S))\n",
        "\n",
        "D= np.array([0,1,2,3,4,5,6,7,8,9])\n",
        "print(D.itemsize)\n",
        "print(D.size * D.itemsize)"
      ],
      "metadata": {
        "colab": {
          "base_uri": "https://localhost:8080/"
        },
        "id": "3lMtXBCLc0yB",
        "outputId": "1d724f4f-49eb-4faf-db0b-b458c5360391"
      },
      "execution_count": 53,
      "outputs": [
        {
          "output_type": "stream",
          "name": "stdout",
          "text": [
            "152\n",
            "1520\n",
            "8\n",
            "80\n"
          ]
        }
      ]
    },
    {
      "cell_type": "code",
      "source": [
        "import numpy as np\n",
        "import time\n"
      ],
      "metadata": {
        "id": "9rtVD0rGiDFr"
      },
      "execution_count": 43,
      "outputs": []
    },
    {
      "cell_type": "markdown",
      "source": [
        "time check"
      ],
      "metadata": {
        "id": "pO4a_yAAmb0v"
      }
    },
    {
      "cell_type": "code",
      "source": [
        "size = 100000000\n",
        "\n",
        "list1 = range(size)\n",
        "list2 = range(size)\n",
        "\n",
        "inititial = time.time()\n",
        "\n",
        "result = [a*b for a,b in zip(list1,list2)]\n",
        "\n",
        "time_taken = time.time() - inititial\n",
        "\n",
        "print(\"time taken for list\", time_taken)\n",
        "\n",
        "one= np.arange(size)\n",
        "two = np.arange(size)\n",
        "\n",
        "inititial = time.time()\n",
        "\n",
        "result1 = one * two\n",
        "\n",
        "time_taken = time.time() - inititial\n",
        "\n",
        "print(\"time taken for array\", time_taken)"
      ],
      "metadata": {
        "colab": {
          "base_uri": "https://localhost:8080/"
        },
        "id": "QOPS7OIKjY1l",
        "outputId": "c407c7ec-2549-43c1-e844-f7eba89e8df2"
      },
      "execution_count": 52,
      "outputs": [
        {
          "output_type": "stream",
          "name": "stdout",
          "text": [
            "time taken for list 21.273250579833984\n",
            "time taken for array 1.540050983428955\n"
          ]
        }
      ]
    },
    {
      "cell_type": "code",
      "source": [
        ""
      ],
      "metadata": {
        "id": "Rzo6hM72kLGe"
      },
      "execution_count": null,
      "outputs": []
    }
  ]
}